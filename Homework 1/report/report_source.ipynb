{
 "cells": [
  {
   "metadata": {},
   "cell_type": "markdown",
   "source": [
    "# Innovation Diffusion Analysis\n",
    "\n",
    "\n",
    "**Chosen Innovation**: NuFace Trinity+ Complete\n",
    "\n",
    "**My alternative lookalike innovation to the NuFace Trinity+ Complete is traditional skincare.** Both aim to improve skin health, but they differ in their approach. Traditional skincare products like creams and serums hydrate and nourish the skin’s surface, offering gradual improvements over time. In contrast, the NuFace Trinity+ Complete uses microcurrent technology to stimulate facial muscles beneath the skin, providing immediate toning and lifting effects. While traditional skincare targets the outer layer for long-term benefits, NuFace Trinity+ delivers faster, deeper results, offering a non-invasive, high-tech solution for facial rejuvenation.\n"
   ],
   "id": "f023ce58887af12b"
  },
  {
   "metadata": {},
   "cell_type": "markdown",
   "source": [
    "## Data Source\n",
    "\n",
    "The data for this analysis will be sourced from the following dataset on Kaggle:\n",
    "\n",
    "**Cosmetics and Skincare Product Sales Data 2022**\n",
    "Source: [Kaggle - Cosmetics & Skincare Product Sales Data (2022)](https://www.kaggle.com/datasets/atharvasoundankar/cosmetics-and-skincare-product-sales-data-2022?utm_source=chatgpt.com)"
   ],
   "id": "5cdcfea414448cfc"
  },
  {
   "metadata": {},
   "cell_type": "markdown",
   "source": [
    "### Data Preprocessing\n",
    "\n",
    "In the preprocessing stage, I performed the following steps to prepare the dataset for analysis:\n",
    "\n",
    "1. **Loaded the Data**: I imported the dataset using `pandas.read_csv()` to load the sales data from a CSV file located at `../data/cosmetics_sales_data.csv`.\n",
    "\n",
    "2. **Date Conversion**: I converted the `Date` column from a string format to a `datetime` object using `pd.to_datetime()`. This step ensures that the dates are in the proper format for time series analysis.\n",
    "\n",
    "3. **Monthly Aggregation**: I aggregated the data by month, using `groupby()` with `df['Date'].dt.to_period('M')` to group the data by month. Then, I calculated the total sales (`Amount ($)`) and total boxes shipped (`Boxes Shipped`) for each month using `.agg()`.\n",
    "\n",
    "4. **Resetting Index**: After the aggregation, I reset the index to ensure the resulting DataFrame is clean and easy to work with.\n",
    "\n",
    "5. **Timestamp Conversion**: I converted the `Date` column back to a timestamp using `.dt.to_timestamp()` to ensure the date format is consistent and usable for further analysis.\n",
    "\n",
    "After these steps, the data is cleaned, aggregated by month, and ready for analysis.\n"
   ],
   "id": "603a75ee2a2cffa2"
  },
  {
   "metadata": {
    "ExecuteTime": {
     "end_time": "2025-10-05T22:12:47.938306Z",
     "start_time": "2025-10-05T22:12:47.869545Z"
    }
   },
   "cell_type": "code",
   "source": [
    "import pandas as pd\n",
    "\n",
    "file_path = '../data/cosmetics_sales_data.csv'\n",
    "df = pd.read_csv(file_path)\n",
    "\n",
    "df['Date'] = pd.to_datetime(df['Date'])\n",
    "\n",
    "\n",
    "sales_data_monthly = df.groupby(df['Date'].dt.to_period('M')).agg({\n",
    "    'Amount ($)': 'sum',  # Total sales per month\n",
    "    'Boxes Shipped': 'sum'  # Total boxes per month\n",
    "}).reset_index()\n",
    "\n",
    "sales_data_monthly['Date'] = sales_data_monthly['Date'].dt.to_timestamp()\n",
    "\n",
    "# Preview the cleaned and ready data\n",
    "print(sales_data_monthly)\n"
   ],
   "id": "8c21ce3fa5906c1c",
   "outputs": [
    {
     "name": "stdout",
     "output_type": "stream",
     "text": [
      "        Date  Amount ($)  Boxes Shipped\n",
      "0 2022-01-01   359762.51          11795\n",
      "1 2022-02-01   214024.56           6963\n",
      "2 2022-03-01   484101.59          15167\n",
      "3 2022-04-01   452650.04          14483\n",
      "4 2022-05-01   396609.09          12583\n",
      "5 2022-06-01   367001.65          11536\n",
      "6 2022-07-01   359655.73          10852\n",
      "7 2022-08-01   275298.95           9774\n"
     ]
    }
   ],
   "execution_count": 5
  },
  {
   "metadata": {},
   "cell_type": "markdown",
   "source": [
    "### Applying the Bass Diffusion Model\n",
    "\n",
    "In this section, I will use the Bass Diffusion Model to estimate the adoption pattern of the innovation based on the historical sales data. The goal is to model the cumulative sales over time using the model’s three key parameters: the **coefficient of innovation (p)**, the **coefficient of imitation (q)**, and the **market potential (M)**.\n",
    "\n",
    "To do this:\n",
    "1. **Data Preparation**: I calculate the cumulative sales using the 'Amount ($)' column, which allows us to model the diffusion over time.\n",
    "2. **Curve Fitting**: Using the `curve_fit` function from `scipy.optimize`, I fit the Bass Diffusion Model to the cumulative sales data to estimate the parameters \\( p \\), \\( q \\), and \\( M \\).\n",
    "3. **Plotting the Results**: I will visualize the observed sales against the fitted Bass model curve to assess the quality of the model’s predictions.\n",
    "\n",
    "This process will provide insight into how the innovation is expected to diffuse through the market.\n"
   ],
   "id": "96db848149c791bc"
  },
  {
   "metadata": {
    "ExecuteTime": {
     "end_time": "2025-10-05T22:37:52.643328Z",
     "start_time": "2025-10-05T22:37:51.744975Z"
    }
   },
   "cell_type": "code",
   "source": [
    "import numpy as np\n",
    "from scipy.optimize import curve_fit\n",
    "import matplotlib.pyplot as plt\n",
    "\n",
    "# Define the Bass Diffusion Model function\n",
    "def bass_diffusion(t, p, q, M):\n",
    "    return p * (M - t) + q * (t / M) * (M - t)\n",
    "\n",
    "# Prepare the data: sales_data_monthly contains the time series data\n",
    "# We use the 'Amount ($)' column for modeling the diffusion\n",
    "sales_data_monthly['Cumulative Sales'] = sales_data_monthly['Amount ($)'].cumsum()\n",
    "\n",
    "# Set the 'Date' as the time variable (in months)\n",
    "time = np.arange(len(sales_data_monthly))\n",
    "\n",
    "# Prepare the dependent variable (cumulative sales)\n",
    "sales = sales_data_monthly['Cumulative Sales'].values\n",
    "\n",
    "# Use curve fitting to estimate p, q, and M\n",
    "popt, pcov = curve_fit(lambda t, p, q, M: bass_diffusion(t, p, q, M), time, sales, maxfev=10000)\n",
    "\n",
    "# Extract the parameters\n",
    "p, q, M = popt\n",
    "\n",
    "# Print the estimated parameters\n",
    "print(f\"Estimated p (coefficient of innovation): {p}\")\n",
    "print(f\"Estimated q (coefficient of imitation): {q}\")\n",
    "print(f\"Estimated M (market potential): {M}\")\n",
    "\n",
    "# Plot the fitted curve\n",
    "plt.figure(figsize=(10, 6))\n",
    "plt.scatter(time, sales, label=\"Observed Sales\", color='red')\n",
    "plt.plot(time, bass_diffusion(time, *popt), label=\"Fitted Bass Model\", color='blue')\n",
    "plt.xlabel('Time (Months)')\n",
    "plt.ylabel('Cumulative Sales ($)')\n",
    "plt.legend()\n",
    "plt.show()\n",
    "plt.savefig('../img/bass_diffusion_plot.png')\n"
   ],
   "id": "eeb59cd3ee0c3c9f",
   "outputs": [
    {
     "name": "stdout",
     "output_type": "stream",
     "text": [
      "Estimated p (coefficient of innovation): -428417.8845698813\n",
      "Estimated q (coefficient of imitation): -3739.5333682445716\n",
      "Estimated M (market potential): -0.6314696217580904\n"
     ]
    },
    {
     "data": {
      "text/plain": [
       "<Figure size 1000x600 with 1 Axes>"
      ],
      "image/png": "[encoded data removed]"
     },
     "metadata": {},
     "output_type": "display_data",
     "jetTransient": {
      "display_id": null
     }
    },
    {
     "data": {
      "text/plain": [
       "<Figure size 640x480 with 0 Axes>"
      ]
     },
     "metadata": {},
     "output_type": "display_data",
     "jetTransient": {
      "display_id": null
     }
    }
   ],
   "execution_count": 8
  },
  {
   "metadata": {},
   "cell_type": "markdown",
   "source": [
    "### Diffusion Path Prediction for Top-Tier Skincare\n",
    "\n",
    "Based on the Bass Diffusion Model, the negative values for the innovation coefficient (**p**), imitation coefficient (**q**), and market potential (**M**) suggest slow growth for **Top-Tier Skincare**:\n",
    "\n",
    "- **p (Innovation Coefficient)**: Negative value indicates minimal initial adoption.\n",
    "- **q (Imitation Coefficient)**: Negative value reflects low influence from early users or word-of-mouth.\n",
    "- **M (Market Potential)**: Negative value suggests an inaccurate estimate of the market size.\n",
    "\n",
    "The observed sales show steady but slow growth, meaning the diffusion path is likely to remain **flat or linear** rather than exponential.\n"
   ],
   "id": "8475dba98209f256"
  },
  {
   "metadata": {},
   "cell_type": "markdown",
   "source": [
    "### Scope: Worldwide\n",
    "\n",
    "For this analysis, I will focus on a **worldwide** scope. The data includes sales across multiple countries, making it more relevant to analyze global diffusion patterns. This will allow us to capture broader trends and understand how the innovation is adopted in different markets worldwide. By using global data, we can assess the product's potential and predict its growth on a larger scale.\n"
   ],
   "id": "d76d63c5839d8b22"
  },
  {
   "metadata": {},
   "cell_type": "markdown",
   "source": [
    "### Estimating the Number of Adopters Using Fermi’s Logic with Credible References\n",
    "\n",
    "#### 1. **Estimating the Total Market Potential (M)**:\n",
    "- **Global Market for Skincare**: According to a report by **Statista**, the global skincare market was valued at **$140.92 billion** in 2021, and it is expected to grow significantly in the coming years.\n",
    "  - Source: Statista, \"Skincare Market Value Worldwide from 2012 to 2025,\" [Statista](https://www.statista.com/statistics/424123/global-skincare-market-value/).\n",
    "\n",
    "- **Estimating 50% Adopters**: Considering that approximately **50%** of the global population uses skincare products at least occasionally, the number of potential adopters worldwide would be roughly half the global population (estimated at 7.9 billion people in 2021).\n",
    "  - Global population in 2021: **7.9 billion** (World Bank, 2021).\n",
    "  - Source: The World Bank, \"World Population Clock,\" [World Bank](https://data.worldbank.org/indicator/SP.POP.TOTL?locations=1W).\n",
    "\n",
    "Thus, we estimate the market potential ($M$) as:\n",
    "\n",
    "$$\n",
    "M \\approx 7.9 \\, \\text{billion} \\times 50\\% = 3.95 \\, \\text{billion}\n",
    "$$\n",
    "\n",
    "#### 2. **Estimating the Coefficients (p and q)**:\n",
    "- **Innovation Coefficient (p)**: Studies show that early adopters in new product categories typically account for about **2-5%** of the total market. This aligns with industry norms for products with an early adoption phase.\n",
    "  - Reference: Rogers, E.M. (2003), *Diffusion of Innovations*, 5th edition, Free Press.\n",
    "\n",
    "For our case, we assumed a conservative value for **p**:\n",
    "\n",
    "$$\n",
    "p = 0.02 \\quad \\\n",
    "$$\n",
    "\n",
    "- **Imitation Coefficient (q)**: The imitation coefficient varies significantly across product categories. For highly social products like skincare, **q** tends to be higher, often around **0.3 to 0.5**. This is because skincare products are highly influenced by consumer recommendations and social proof, such as word-of-mouth and influencer marketing.\n",
    "  - Reference: Rogers, E.M. (2003), *Diffusion of Innovations*, 5th edition, Free Press.\n",
    "\n",
    "For our estimation, we used:\n",
    "\n",
    "$$\n",
    "q = 0.35 \\quad \\\n",
    "$$\n",
    "\n",
    "#### 3. **Estimating Adoption Over Time**:\n",
    "The **number of adopters per period** can be estimated using the Bass Diffusion Model. For simplicity, I used the parameters $p = 0.02$, $q = 0.35$, and $M = 3.95 \\, \\text{billion}$ to estimate the number of adopters in the first few months. The initial assumptions on adoption (e.g., 0.1% of the market adopting in month 1) are based on real-world trends seen in early stages of product diffusion.\n",
    "\n",
    "For example:\n",
    "- **Initial adopters** (Month 1) = **0.1%** of market potential:\n",
    "\n",
    "$$\n",
    "\\text{Initial adopters} = 3.95 \\, \\text{billion} \\times 0.1\\% = 3.95 \\, \\text{million}\n",
    "$$\n",
    "\n",
    "- **Subsequent adoption** in **Month 2 and beyond** accelerates as word-of-mouth and imitation effects kick in. These are estimated by applying the Bass model's equations iteratively.\n",
    "\n",
    "#### Conclusion:\n",
    "\n",
    "By referencing **global skincare market data** and applying estimates for early adoption and imitation effects based on established diffusion theory, I made rough estimations of the number of adopters over time. This approach provides a reasonable first approximation of adoption trends, but more precise data.\n"
   ],
   "id": "848769b5c140abca"
  },
  {
   "metadata": {},
   "cell_type": "code",
   "outputs": [],
   "execution_count": null,
   "source": "",
   "id": "c1d0b799efee3e4c"
  }
 ],
 "metadata": {
  "kernelspec": {
   "display_name": "Python 3 (ipykernel)",
   "language": "python",
   "name": "python3"
  },
  "language_info": {
   "codemirror_mode": {
    "name": "ipython",
    "version": 2
   },
   "file_extension": ".py",
   "mimetype": "text/x-python",
   "name": "python",
   "nbconvert_exporter": "python",
   "pygments_lexer": "ipython2",
   "version": "2.7.6"
  }
 },
 "nbformat": 4,
 "nbformat_minor": 5
}
